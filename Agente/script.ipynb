{
 "cells": [
  {
   "cell_type": "code",
   "execution_count": null,
   "metadata": {},
   "outputs": [],
   "source": [
    "import gymnasium as gym\n",
    "import matplotlib.pyplot as plt\n",
    "import numpy as np\n",
    "import pandas as pd\n",
    "import modules.plotter as plotter\n",
    "import modules.model_manager as model_manager\n",
    "\n",
    "from classes.local_agent import LocalAgent\n",
    "from IPython.display import display\n",
    "from stable_baselines3 import PPO\n",
    "from stable_baselines3.common.vec_env import DummyVecEnv\n",
    "from stable_baselines3.common.utils import set_random_seed\n",
    "from custom_env.redes_opticas_env import RedesOpticasEnv\n",
    "import time\n",
    "\n",
    "def make_env(num_ont, v_max_olt=10e6,vt_contratada=10e6/10, n_ciclos=200, rank=0, seed=0):\n",
    "    def _init():\n",
    "        env = gym.make('RedesOpticasEnv-v0', render_mode=None,seed=seed, num_ont=num_ont, v_max_olt=v_max_olt, vt_contratada=vt_contratada,n_ciclos=n_ciclos)\n",
    "        return env\n",
    "    return _init\n",
    "\n",
    "if __name__ == \"__main__\":\n",
    "    n_ciclos = 200\n",
    "    num_ont = 8\n",
    "    num_timesteps = 1000\n",
    "    num_tests = 1\n",
    "\n",
    "    agent = LocalAgent(num_ont=num_ont)\n",
    "    agent.create_model('RedesOpticasEnv-v0', 1, \"ppo\", n_ciclos)\n",
    "    agent.train_model(num_timesteps)\n",
    "    agent.exec_simulation(n_ciclos, num_tests)\n",
    "    agent.plot_results()"
   ]
  }
 ],
 "metadata": {
  "kernelspec": {
   "display_name": "Python 3",
   "language": "python",
   "name": "python3"
  },
  "language_info": {
   "codemirror_mode": {
    "name": "ipython",
    "version": 3
   },
   "file_extension": ".py",
   "mimetype": "text/x-python",
   "name": "python",
   "nbconvert_exporter": "python",
   "pygments_lexer": "ipython3",
   "version": "3.13.2"
  }
 },
 "nbformat": 4,
 "nbformat_minor": 2
}
