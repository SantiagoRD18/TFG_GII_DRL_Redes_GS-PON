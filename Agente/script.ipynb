{
 "cells": [
  {
   "cell_type": "code",
   "execution_count": null,
   "metadata": {},
   "outputs": [],
   "source": [
    "import custom_env.redes_opticas_env\n",
    "import numpy as np\n",
    "\n",
    "from classes.local_agent import LocalAgent\n",
    "\n",
    "\n",
    "if __name__ == \"__main__\":\n",
    "    env_id = 'RedesOpticasEnv-v1'\n",
    "    n_ciclos = 200\n",
    "\n",
    "    num_ont = 16\n",
    "    TxRate = 10e9\n",
    "    temp_ciclo = 0.002\n",
    "    B_guaranteed = np.full(num_ont, 600e8)\n",
    "\n",
    "    num_timesteps = 1000000\n",
    "    num_tests = 1\n",
    "    num_envs = 8\n",
    "    algorithm = 'ppo'\n",
    "    seed = 42\n",
    "\n",
    "    agent = LocalAgent(num_ont, TxRate, temp_ciclo, B_guaranteed, seed)\n",
    "    agent.create_model(env_id, num_envs, algorithm, n_ciclos)\n",
    "    agent.train_model(num_timesteps)\n",
    "    agent.exec_simulation(n_ciclos, num_tests, env_id)\n",
    "    agent.plot_results()"
   ]
  }
 ],
 "metadata": {
  "kernelspec": {
   "display_name": "Python 3",
   "language": "python",
   "name": "python3"
  },
  "language_info": {
   "codemirror_mode": {
    "name": "ipython",
    "version": 3
   },
   "file_extension": ".py",
   "mimetype": "text/x-python",
   "name": "python",
   "nbconvert_exporter": "python",
   "pygments_lexer": "ipython3",
   "version": "3.13.2"
  }
 },
 "nbformat": 4,
 "nbformat_minor": 2
}
