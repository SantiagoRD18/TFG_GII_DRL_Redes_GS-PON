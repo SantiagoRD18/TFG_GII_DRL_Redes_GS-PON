{
 "cells": [
  {
   "cell_type": "code",
   "execution_count": null,
   "metadata": {},
   "outputs": [],
   "source": [
    "import sys, os\n",
    "\n",
    "os.path.join(\"\", \"classes\")\n",
    "\n",
    "abs_path = os.path.abspath(\"../Agente\")\n",
    "modules_path = os.path.join(abs_path, \"modules\")\n",
    "classes_path = os.path.join(abs_path, \"classes\")\n",
    "classes_path = os.path.join(abs_path, \"custom_env\")\n",
    "\n",
    "sys.path.append(modules_path)\n",
    "sys.path.append(classes_path)\n",
    "\n",
    "\n",
    "if 'local_agent' in sys.modules:\n",
    "    del sys.modules['local_agent']\n",
    "import local_agent\n",
    "\n",
    "\n",
    "from IPython.display import display\n",
    "from stable_baselines3.common.utils import set_random_seed\n",
    "\n",
    "\n",
    "if __name__ == \"__main__\":\n",
    "    env_id = 'RedesOpticasEnv-v0'\n",
    "    n_ciclos = 200\n",
    "\n",
    "    num_ont = 16\n",
    "    TxRate = 10e9\n",
    "    temp_ciclo = 0.002\n",
    "    B_guaranteed = 600e6\n",
    "\n",
    "    num_timesteps = 1000\n",
    "    num_tests = 1\n",
    "    num_envs = 1\n",
    "    algorithm = 'ppo'\n",
    "    seed = 42\n",
    "\n",
    "    agent = local_agent.LocalAgent(num_ont, TxRate, temp_ciclo, B_guaranteed, seed)\n",
    "    agent.create_model(env_id, num_envs, algorithm, n_ciclos)\n",
    "    agent.train_model(num_timesteps)\n",
    "    agent.exec_simulation(n_ciclos, num_tests)\n",
    "    agent.plot_results()"
   ]
  }
 ],
 "metadata": {
  "kernelspec": {
   "display_name": "Python 3",
   "language": "python",
   "name": "python3"
  },
  "language_info": {
   "codemirror_mode": {
    "name": "ipython",
    "version": 3
   },
   "file_extension": ".py",
   "mimetype": "text/x-python",
   "name": "python",
   "nbconvert_exporter": "python",
   "pygments_lexer": "ipython3",
   "version": "3.13.2"
  }
 },
 "nbformat": 4,
 "nbformat_minor": 2
}
